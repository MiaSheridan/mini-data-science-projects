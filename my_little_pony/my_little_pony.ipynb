{
 "cells": [
  {
   "cell_type": "markdown",
   "id": "7ddc0fdf",
   "metadata": {},
   "source": [
    "## Data Collection\n",
    "\n",
    " **Download** the transcripts from all seasons of *My Little Pony* [here](https://www.kaggle.com/liury123/my-little-pony-transcript)."
   ]
  },
  {
   "cell_type": "code",
   "execution_count": 20,
   "id": "d67fdbee",
   "metadata": {},
   "outputs": [
    {
     "name": "stdout",
     "output_type": "stream",
     "text": [
      "/Users/SheridanVLopez/Desktop/uni/my_little_pony/archive/clean_dialog.csv\n"
     ]
    }
   ],
   "source": [
    "data_path = '/Users/SheridanVLopez/Desktop/uni/my_little_pony/archive/clean_dialog.csv'\n",
    "print(data_path) "
   ]
  },
  {
   "cell_type": "markdown",
   "id": "a0896347",
   "metadata": {},
   "source": [
    "**Prep**  \n",
    "   Transform the transcript into a CSV file that has the following columns for each line of dialogue:  \n",
    "    `episode`, `speaker` , `content`. Content should be clean (only spoken text). "
   ]
  },
  {
   "cell_type": "code",
   "execution_count": 21,
   "id": "f8625aa3",
   "metadata": {},
   "outputs": [
    {
     "name": "stdout",
     "output_type": "stream",
     "text": [
      "                         title        writer                           pony  \\\n",
      "0  Friendship is Magic, part 1  Lauren Faust                       Narrator   \n",
      "1  Friendship is Magic, part 1  Lauren Faust                       Narrator   \n",
      "2  Friendship is Magic, part 1  Lauren Faust  Narrator and Twilight Sparkle   \n",
      "3  Friendship is Magic, part 1  Lauren Faust               Twilight Sparkle   \n",
      "4  Friendship is Magic, part 1  Lauren Faust                   Twinkleshine   \n",
      "\n",
      "                                              dialog  \n",
      "0  Once upon a time, in the magical land of Eques...  \n",
      "1  She vowed that she would shroud the land in et...  \n",
      "2                                 ...sun and moon...  \n",
      "3  ...and harmony has been maintained in Equestri...  \n",
      "4  There you are, Twilight! Moon Dancer is having...  \n"
     ]
    }
   ],
   "source": [
    "import pandas as pd\n",
    "import numpy\n",
    "from pprint import pprint # pretty print\n",
    "\n",
    "df = pd.read_csv(data_path)\n",
    "print(df.head()) "
   ]
  },
  {
   "cell_type": "code",
   "execution_count": 22,
   "id": "8093acf4",
   "metadata": {},
   "outputs": [
    {
     "name": "stdout",
     "output_type": "stream",
     "text": [
      "['title', 'pony', 'dialog']\n"
     ]
    }
   ],
   "source": [
    "# remove column 'writer'\n",
    "df = df.drop(columns=['writer'])\n",
    "pprint(df.columns.tolist())"
   ]
  },
  {
   "cell_type": "markdown",
   "id": "8008fdc7",
   "metadata": {},
   "source": [
    "\n",
    "Now we have the data we need. But there are a few potential issues that can potentially complicate the problem.\n",
    "    1. There might be multiple parts for the same episode (ep with same title).\n",
    "    2. There might be multiple speakers for the same content.\n",
    "    3. Some dialogs might contain non-spoken texts [sigh] and unicode character instead of UTF-8. E.g. <U+0096>\n",
    "handle that "
   ]
  },
  {
   "cell_type": "markdown",
   "id": "ac1bb8a5",
   "metadata": {},
   "source": [
    "### Problem 1 (Title)\n"
   ]
  },
  {
   "cell_type": "code",
   "execution_count": 23,
   "id": "53180bfb",
   "metadata": {},
   "outputs": [
    {
     "name": "stdout",
     "output_type": "stream",
     "text": [
      "array(['Friendship is Magic, part 1', 'Friendship is Magic, part 2',\n",
      "       'The Ticket Master', 'Applebuck Season', 'Griffon the Brush Off',\n",
      "       'Boast Busters', 'Dragonshy', 'Look Before You Sleep',\n",
      "       'Bridle Gossip', 'Swarm of the Century', 'Winter Wrap Up',\n",
      "       'Call of the Cutie', 'Fall Weather Friends', 'Suited For Success',\n",
      "       'Feeling Pinkie Keen', 'Sonic Rainboom', 'Stare Master',\n",
      "       'The Show Stoppers', 'A Dog and Pony Show',\n",
      "       \"Green Isn't Your Color\", 'Over a Barrel', 'A Bird in the Hoof',\n",
      "       'The Cutie Mark Chronicles', \"Owl's Well That Ends Well\",\n",
      "       'Party of One', 'The Best Night Ever',\n",
      "       'The Return of Harmony Part 1', 'The Return of Harmony Part 2',\n",
      "       'Lesson Zero', 'Luna Eclipsed', 'Sisterhooves Social',\n",
      "       'The Cutie Pox', 'May the Best Pet Win!',\n",
      "       'The Mysterious Mare Do Well', 'Sweet and Elite',\n",
      "       'Secret of My Excess', \"Hearth's Warming Eve\",\n",
      "       'Family Appreciation Day', 'Baby Cakes', 'The Last Roundup',\n",
      "       'The Super Speedy Cider Squeezy 6000', 'Read It and Weep',\n",
      "       'Hearts and Hooves Day', 'A Friend in Deed',\n",
      "       'Putting Your Hoof Down', \"It's About Time\", 'Dragon Quest',\n",
      "       'Hurricane Fluttershy', 'Ponyville Confidential',\n",
      "       'MMMystery on the Friendship Express'], dtype=object)\n"
     ]
    }
   ],
   "source": [
    "# find unique titles\n",
    "unique_titles = df['title'].unique()\n",
    "pprint(unique_titles[:50])"
   ]
  },
  {
   "cell_type": "markdown",
   "id": "ad5d1a77",
   "metadata": {},
   "source": [
    "\n",
    "dirty cases, where we have like part X, Part X and other stuff \n",
    "\n",
    "The following sequence can be considered: \n",
    "\n",
    "1. remove , -\n",
    "2. convert to lower case\n",
    "3. remove everything after 'part', including all the space char before"
   ]
  },
  {
   "cell_type": "code",
   "execution_count": 24,
   "id": "4a408e4f",
   "metadata": {},
   "outputs": [
    {
     "name": "stdout",
     "output_type": "stream",
     "text": [
      "['friendship is magic',\n",
      " 'the ticket master',\n",
      " 'applebuck season',\n",
      " 'griffon the brush off',\n",
      " 'boast busters',\n",
      " 'dragonshy',\n",
      " 'look before you sleep',\n",
      " 'bridle gossip',\n",
      " 'swarm of the century',\n",
      " 'winter wrap up']\n"
     ]
    }
   ],
   "source": [
    "# remove , and - in titles\n",
    "df['title'] = df['title'].str.replace(',', '').str.replace('-', '')\n",
    "# convert to lowercase\n",
    "df['title'] = df['title'].str.lower()\n",
    "# remove everything after 'part', making sure no space is left before 'part' and at the end\n",
    "df['title'] = df['title'].str.replace(r'\\s*part.*$', '', regex=True)\n",
    "# make sure no space left at the end\n",
    "df['title'] = df['title'].str.strip()\n",
    "# rename column 'title' to 'episode'\n",
    "df = df.rename(columns={'title': 'episode'})\n",
    "# print unique titles again\n",
    "pprint(df['episode'].unique().tolist()[:10])"
   ]
  },
  {
   "cell_type": "markdown",
   "id": "f920b166",
   "metadata": {},
   "source": [
    "### Problem 2(speaker):\n",
    "\n",
    "\n",
    "change column `pony` to `speaker`, parse the speakers, and then replace string with list of speakers. or maybe add a copy of dialog for each speaker when multiple speakers. \n",
    "\n"
   ]
  },
  {
   "cell_type": "code",
   "execution_count": 25,
   "id": "83438f0a",
   "metadata": {},
   "outputs": [
    {
     "name": "stdout",
     "output_type": "stream",
     "text": [
      "{'twilight sparkle': 4769, 'rainbow dash': 3114, 'pinkie pie': 2868, 'applejack': 2779, 'rarity': 2690, 'spike': 2286, 'fluttershy': 2133, 'apple bloom': 1405, 'starlight glimmer': 1180, 'sweetie belle': 980, 'others': 979, 'scootaloo': 956, 'discord': 593, 'trixie': 400, 'princess celestia': 363, 'granny smith': 302, 'big mcintosh': 284, 'princess cadance': 218, 'princess luna': 212, 'maud pie': 212, 'sunburst': 181, 'flim': 178, 'shining armor': 167, 'flam': 164, 'thorax': 158, 'diamond tiara': 155, 'smolder': 146, 'spitfire': 138, 'zecora': 128, 'cheerilee': 119, 'gallus': 113, 'cutie mark crusaders': 106, 'sandbar': 101, 'ocellus': 100, 'cozy glow': 98, 'silverstream': 94, 'yona': 93, 'prince rutherford': 91, 'gilda': 82, 'garble': 81, 'zephyr breeze': 77, 'cranky doodle donkey': 75, 'quibble pants': 74, 'rockhoof': 73, 'young applejack': 72, 'daring do': 67, 'lightning dust': 63, 'queen chrysalis': 62, 'star swirl the bearded': 61, 'mrs. cake': 61, 'ember': 60, 'mayor mare': 60, 'snips': 59, 'sugar belle': 59, 'iron will': 58, 'tempest shadow': 57, 'silver spoon': 55, 'rumble': 54, 'snails': 54, 'sassy saddles': 53, 'lord tirek': 51, 'babs seed': 48, 'cheese sandwich': 47, 'sludge': 46, 'ponies': 43, 'soarin': 41, 'filthy rich': 41, 'pipsqueak': 41, 'bow hothoof': 41, 'gabby': 41, 'photo finish': 40, 'bulk biceps': 39, 'fancy pants': 38, 'windy whistles': 38, 'goldie delicious': 38, 'moon dancer': 37, 'mudbriar': 36, 'capper': 36, 'all': 36, 'gladmane': 36, 'chancellor neighsay': 35, 'mr. cake': 34, 'stellar flare': 33, 'ms. peachbottom': 33, 'princess ember': 33, 'vapor trail': 32, 'sky stinger': 31, 'princess skystar': 31, 'braeburn': 30, 'hoity toity': 29, 'rover': 29, 'pharynx': 29, 'firelight': 28, 'derpy': 28, 'double diamond': 28, 'young rainbow dash': 28, 'young big mcintosh': 28, 'the storm king': 28, 'trouble shoes': 28, 'dr. caballeron': 28, 'matilda': 28, 'sweetie drops': 28, 'neighsay': 27, 'nightmare moon': 27, 'ms. harshwhinny': 26, 'ma hooffield': 26, 'minuette': 26, 'foals': 26, 'terramar': 26, 'choir': 26, 'countess coloratura': 26, 'grand pear': 25, 'limestone pie': 25, 'dr. hooves': 25, 'saffron masala': 25, 'a. k. yearling': 25, 'big daddy mccolt': 24, 'svengallop': 24, 'seabreeze': 23, 'autumn blaze': 23, 'coriander cumin': 23, 'rest of main cast': 23, 'party favor': 23, 'thunderlane': 22, 'captain celaeno': 22, 'coco pommel': 22, 'grubber': 22, 'crowd': 22, 'sheriff silverstar': 21, 'fleetfoot': 21, 'mean twilight sparkle': 21, 'dr. fauna': 21, \"hoo'far\": 20, 'auntie applesauce': 20, 'zipporwhill': 20, 'pear butter': 19, 'trenderhoof': 19, 'sapphire shores': 19, 'tree hugger': 18, 'grampa gruff': 18, 'cattail': 18, 'dragon lord torch': 18, 'night light': 18, 'mage meadowbrook': 18, 'queen novo': 17, 'pinkie pie 2': 17, 'suri polomare': 17, 'spot': 16, 'twilight velvet': 16, 'steven magnet': 16, 'doctor horse': 16, 'owlowiscious': 16, 'apple rose': 15, 'daisy': 15, 'discord 2': 15, 'feather bangs': 15, 'mistmane': 14, 'fido': 14, 'rose': 14, 'bright mac': 14, 'lyra heartstrings': 14, 'aloe': 14, 'royal guard 1': 13, 'the pony tones': 13, 'mane six': 13, 'cherry berry': 13, 'mean applejack': 13, 'spearhead': 13, 'announcer': 13, 'misty fly': 13, 'young twilight sparkle': 12, 'wind rider': 12, 'flash magnus': 12, 'sky beak': 12, 'star tracker': 12, 'conductor': 12, 'on stage': 12, 'apple family': 12, 'dr. horse': 12, 'professor fossil': 12, 'main cast': 11, 'kettle corn': 11, 'seaspray': 11, 'raspberry beret': 11, 'alice': 11, 'crafty crate': 11, 'cherry jubilee': 11, 'chief thunderhooves': 11, 'little strongheart': 11, 'mrs. shy': 11, 'silver shill': 10, 'songbird serenade': 10, 'twist': 10, 'fashion plate': 10, 'inky rose': 10, 'nurse redheart': 10, 'pony of shadows': 10, 'shadowbolt leader': 10, 'photographer': 10, 'prim hemline': 10, 'night glider': 10, 'changeling 1': 10, 'dandy grandeur': 10, 'twinkleshine': 10, 'pest control pony': 9, 'prince blueblood': 9, 'ahuizotl': 9, 'burnt oak': 9, 'spoiled rich': 9, 'upper crust': 9, 'tender taps': 9, 'mr. shy': 9, 'lily valley': 9, 'mysterious voice': 9, 'ocean flow': 9, 'mullet': 9, 'lemon hearts': 9, 'young hoops': 9, 'students': 9, 'amethyst maresbury': 8, 'automated voice': 8, 'future twilight sparkle': 8, 'mean rarity': 8, 'lucy packard': 8, 'spoiled milk': 8, 'zesty gourmand': 8, 'pinkie pie duplicate': 8, 'king sombra': 8, 'skeedaddle': 8, 'marble pie': 8, 'toola roola': 8, 'hard hat': 8, 'daybreaker': 8, 'jet set': 8, 'hoops': 8, 'young starlight glimmer': 8, \"chimera's goat head\": 8, \"chimera's tiger head\": 8, 'changeling': 7, 'pistachio': 7, 'shoeshine': 7, 'trapeze star': 7, 'pony': 7, 'starstreak': 7, 'pegasi': 7, 'mrs. trotsworth': 7, 'boyle': 7, 'jack pot': 7, 'amethyst star': 7, 'bags valet': 7, 'cinnamon chai': 7, 'plaid stripes': 7, 'igneous rock': 7, 'yaks': 7, 'seaponies': 7, 'donut joe': 6, 'octavia melody': 6, 'bori': 6, 'parcel post': 6, 'autumn gem': 6, 'teenage dragons': 6, 'past twilight sparkle': 6, 'flurry heart': 6, 'sunshower': 6, 'wrangler': 6, 'professor flintheart': 6, 'chipcutter': 6, 'pinkie pie duplicates': 6, 'director': 6, 'flitter': 6, 'royal guard 2': 6, 'butternut': 6, 'caramel': 6, \"chimera's snake head\": 6, 'stormy flare': 6, 'mori': 6, 'commander ironhead': 6, 'sable spirit': 6, 'somnambula': 6, 'big bucks': 6, 'castle guard 1': 6, 'mean pinkie pie': 6, 'bracer britches': 6, 'bufogren': 6, 'public works pony': 6, 'coloratura': 6, 'rolling thunder': 6, \"discord's ghost\": 6, 'jeff letrotski': 6, 'carnival barker': 5, 'young fluttershy': 5, 'fleur de verre': 5, 'cherry fizzy': 5, 'young granny smith': 5, 'mrs. paleo': 5, 'applejack vision': 5, 'pumpkin cake': 5, 'lucky clover': 5, 'rest of the mane six': 5, 'daisyjo': 5, 'lily lace': 5, 'davenport': 5, 'tymbal': 5, 'fume': 5, 'tourist pony': 5, 'storekeeper': 5, 'illusion twilight sparkle': 5, 'everypony': 5, 'clear skies': 5, 'golden harvest': 5, 'aurora': 5, 'lyrica lilac': 5, 'green changeling': 5, 'the olden pony': 5, 'gustave le grand': 5, 'sir spike': 4, 'wild fire': 4, 'goldengrape': 4, 'crusaders': 4, 'noteworthy': 4, 'madden': 4, 'mrs cake': 4, 'main cast sans rarity': 4, 'nightjar': 4, 'train conductor': 4, 'cloudy quartz': 4, 'young rarity': 4, 'guard': 4, 'cloud chaser': 4, 'messenger pony': 4, 'breezie': 4, 'claude': 4, 'globe trotter': 4, 'twilight': 4, 'little pony 2': 4, 'sapphire joy': 4, 'rainbowshine': 4, 'stellar eclipse': 4, 'cratus': 4, 'elbow grease': 4, 'mulia mild': 4, 'hayseed turnip truck': 4, 'savoir fare': 4, 'all sans twilight sparkle': 4, 'young sunburst': 4, 'citizens': 4, 'illusion rainbow dash': 4, 'lix spittle': 4, 'angel wings': 4, 'oak nut': 4, 'coconut cream': 4, 'illusion rarity': 4, 'blueberry curls': 4, 'mayor baltimare': 4, 'strawberry sunrise': 4, 'changeling 2': 4, 'hoofer steps': 4, 'cloudsdale cheerleaders': 4, 'stygian': 4, 'horticultural pegasus': 4, 'pearly stitch': 4, 'open skies': 4, 'squizard': 4, 'young gilda': 4, 'blue bobbin': 4, 'short fuse': 4, 'mr. stripes': 4, 'mean rainbow dash': 4, 'diamond cutter': 4, 'stepford pony 1': 4, 'valley trend': 4, 'sand trap': 3, 'torch song': 3, 'swan song': 3, 'twirly': 3, 'tree of harmony': 3, 'young trouble shoes': 3, 'mr. paleo': 3, 'gizmo': 3, 'pig creature 1': 3, 'bright smile': 3, 'storm creature': 3, \"holly the hearth's warmer doll\": 3, 'meadow song': 3, 'stepford pony 2': 3, 'sprinkle medley': 3, 'royal ribbon': 3, 'guard 1': 3, 'junebug': 3, 'aunt orange': 3, 'blaze': 3, 'guard 2': 3, 'yigrid': 3, 'young pear butter': 3, 'young bright mcintosh': 3, 'mean fluttershy': 3, 'student 1': 3, 'fluffy clouds': 3, 'crystal clear': 3, 'chargrill breadwinner': 3, 'audience': 3, 'narrator': 3, \"meadowbrook's mother\": 3, 'young pinkie pie': 3, 'meadow flower': 3, 'green apples': 3, 'featherweight': 3, 'madame le flour': 3, 'red apples': 3, 'butterflies': 3, 'young mayor mare': 3, 'pursey pink': 3, 'golden gavel': 3, 'mayor cream cheese': 3, 'yak kid 1': 3, 'aura': 3, 'a.k. yearling': 3, 'silver frames': 3, 'out of town pony': 3, 'mr. breezy': 3, 'crystal ponies': 3, 'orange swirl': 3, 'young pharynx': 3, 'changeling 3': 3, 'all pegasi': 3, 'apple split': 3, 'sassaflash': 3, 'main cast sans fluttershy': 3, 'hondo flanks': 3, 'reporter pony': 3, 'young grand pear': 3, 'main cast sans pinkie pie': 2, 'security guard': 2, 'shopkeeper': 2, 'rarity devil': 2, 'breezies': 2, 'vendor pony': 2, 'young moon dancer': 2, 'buried lede': 2, 'registration pony': 2, 'young cadance': 2, 'pinkie pie duplicate 3': 2, 'art vendor': 2, 'chiffon swirl': 2, 'stallion': 2, 'glasses stallion': 2, 'sea swirl': 2, 'cookie crumbles': 2, 'cloudchaser': 2, 'booth barker': 2, 'mane moon': 2, 'all except fluttershy': 2, 'audience pony': 2, 'young changeling': 2, 'petunia paleo': 2, 'stinky bottom': 2, 'zombie ponies': 2, 'salespony': 2, 'luckette': 2, 'janine manewitz': 2, 'pinkie pie duplicate 2': 2, 'surprise': 2, 'apple leaves': 2, 'mccolts': 2, 'golden hooves': 2, 'main cast sans twilight sparkle': 2, 'maar': 2, 'peachy pitt': 2, 'annoyed delegate': 2, 'sclerite': 2, 'orange slice': 2, 'young thorax': 2, 'comet tail': 2, 'all except rarity': 2, 'female pony': 2, 'steam roller': 2, 'code red': 2, 'louise': 2, 'other main cast': 2, 'joe': 2, 'rusty tenure': 2, 'pound cake': 2, 'all sans rarity': 2, 'masked nurse': 2, 'truffle': 2, 'discord 3': 2, 'goofy changeling': 2, 'dream ponies': 2, 'cornicle': 2, 'janitor pony': 2, 'nurse snowheart': 2, 'pig creature 2': 2, 'yak kid 2': 2, 'deer creature': 2, 'mr. greenhooves': 2, 'sir lintsalot': 2, 'jack hammer': 2, 'silver berry': 2, 'old money': 2, 'mail pony': 2, 'destitute pony': 2, 'mage meabowbrook': 2, 'tall order': 2, 'diamond dogs': 2, 'ponies in unison': 2, 'mule': 2, 'merry may': 2, 'razer': 2, 'ticket taker pony': 2, 'verko': 2, 'lotus blossom': 2, 'honeysparkle': 1, 'young vapor trail': 1, 'film announcer': 1, 'rest of recruits': 1, 'masked pony 2': 1, 'crystal beau': 1, 'opposite fluttershy': 1, 'cotton cloudy': 1, 'crackle': 1, 'crystal pony': 1, 'pinkie pie duplicate 5': 1, 'coach ponies': 1, 'changeling girl': 1, 'royal riff': 1, 'pinkie pie 3': 1, 'matronly pony': 1, 'burly unicorn': 1, 'mr. waddle': 1, 'night watch': 1, 'unicorns': 1, 'pinkie pie duplicate 4': 1, 'deputy copper': 1, 'young apple rose': 1, 'other ponies': 1, 'bernard rabbit': 1, 'high winds': 1, 'professor bill neigh': 1, 'young sky stinger': 1, 'yak': 1, \"discord's finger\": 1, 'fleur de lis': 1, 'pi<f1>ata': 1, 'all discords': 1, 'saddle arabian delegates': 1, 'stallions': 1, \"fluttershy's apparition\": 1, 'liza doolots': 1, 'crystal guard': 1, 'young pegasi': 1, 'pony 2': 1, 'dragons': 1, 'out of town pony 2': 1, 'pegasus fillies': 1, 'half baked apple': 1, 'sweet apple admirer': 1, 'baby applejack': 1, 'pony 1': 1, 'crusoe palm': 1, 'spectator': 1, 'pinkie pie duplicate 6': 1, 'delegate ponies': 1, 'villager': 1, 'background pony 4': 1, 'pond fluttershy': 1, 'apple dumpling': 1, 'frenulum': 1, 'laurette': 1, 'background ponies': 1, 'fillies': 1, 'cadance': 1, 'young coloratura': 1, 'hooffields': 1, 'passing changeling': 1, 'newspaper pony': 1, 'customer pony': 1, 'porter pony': 1, 'berryshine': 1, 'all but rainbow dash': 1, 'all but rarity': 1, 'royal guard': 1, 'flashback discord': 1, 'pony in window': 1, 'pond twilight sparkle': 1, 'forceful parent pony': 1, 'cruise pony 2': 1, 'cruise pony 3': 1, 'cruise pony': 1, 'dancers': 1, 'noi': 1, 'random villager': 1, 'pond rainbow dash': 1, 'sheep': 1, 'dragon': 1, 'all sans celestia': 1, 'big mcintosh as orchard blossom': 1, 'mr. turnip': 1, 'henchpony': 1, 'rocky': 1, 'pinkie pie voicing a bag of flour': 1, 'rest of students': 1, 'pinkie pie voicing a clump of lint': 1, \"rarity's apparition\": 1, 'pond rarity': 1, \"applejack's apparition\": 1, 'barker': 1, \"twilight sparkle's apparition\": 1, 'background pony 1': 1, 'background pony 2': 1, 'background pony 3': 1, 'tourist pony 1': 1, 'pinkie pie voicing a pile of rocks': 1, 'businesspony': 1, 'main cast sans spike': 1, 'pond pinkie pie': 1, 'emt pony': 1, 'rarity angel': 1, 'count caesar': 1, 'dream pony': 1, 'all three discords': 1, 'helia': 1, 'changelings': 1, 'family': 1, 'all but yona': 1, 'main cast sans pinkie': 1, \"ol' salt\": 1, 'uncle orange': 1, 'student 2': 1, 'apples': 1, 'student 4': 1, 'rest of young six': 1, 'dane tee dove': 1, 'pretzel': 1, 'buffalo': 1, 'rain shine': 1, 'classmate pony 3': 1, 'crowd pony 3': 1, 'vera': 1, 'creature 1': 1, 'scaly klugetowner': 1, 'to needy': 1, 'ponies except twilight sparkle': 1, 'main cast sans twilight': 1, 'classmate pony 2': 1, 'discord 1': 1, 'gardening pony': 1, 'all except twilight sparkle': 1, 'fanpony': 1, 'strawberry ice': 1, 'igneous rock pie': 1, 'trxie': 1, 'tall pony': 1, 'short pony': 1, 'grannies': 1, 'round pony': 1, 'official': 1, 'background voice': 1, 'yak waiter': 1, 'mook dogs': 1, 'colt': 1, 'hippogriff sailor': 1, 'lady rarity': 1, 'delegate 2': 1, 'green dragon': 1, 'neigh sayer': 1, 'street pony': 1, \"rarity's teacher\": 1, 'hinny of the hills': 1, 'gala appleby': 1, 'main cast sans rainbow dash': 1, 'in background': 1, 'crowd pony 1': 1, 'buddy': 1, 'young six sans sandbar': 1, 'young six': 1, 'rachel platten': 1, 'apple cobbler': 1, 'female pony 2': 1, 'mane five': 1, 'wonderbolts': 1, 'bird whistle': 1, 'townspony 4': 1, 'townspony 3': 1, 'townspony 2': 1, 'vinny': 1, 'whinnyfield': 1, 'group': 1, 'townspony 1': 1, 'breezette': 1, 'goat head': 1, 'vendor 1': 1, 'vendor 2': 1, 'slowing down': 1, 'elderly griffon': 1, 'joan pommelway': 1, 'pinkie pie voicing a bucket of turnips': 1, 'pancakes': 1, 'blows': 1, 'foggy fleece': 1, 'everyone but twilight': 1, 'breathing heavily': 1, 'crowd pony 2': 1, 'unidentified cow': 1, 'female seapony': 1, 'judge': 1, 'rare find': 1, 'everypony else': 1, 'lukas graham': 1, 'duke of maretonia': 1, 'wensley': 1, 'pony vendor 1': 1, 'pony vendor 2': 1, 'flash sentry': 1, 'all present characters bar spike': 1, 'security guard 2': 1, 'drizzle': 1, 'crystal pony in crowd': 1, 'rest of main cast sans twilight': 1, 'ace point': 1, 'eclair cr<e8>me': 1, 'pushkin': 1, 'senior deputy': 1, 'star spur': 1, 'my happy village lay in ruins relationships got worse spoiler alert': 1, \"rainbow dash's apparition\": 1}\n"
     ]
    }
   ],
   "source": [
    "# change column pony to speaker\n",
    "df = df.rename(columns={'pony': 'speaker'})\n",
    "# convert speaker to lowercase\n",
    "df['speaker'] = df['speaker'].str.lower()\n",
    "# parse speaker str into list of speakers, they might be separated by ',', 'and', '&', 'with'\n",
    "df['speaker'] = df['speaker'].str.replace('&', ',').str.replace(' and ', ',').str.replace(' with ', ',')\n",
    "df['speaker'] = df['speaker'].str.split(',')\n",
    "# strip spaces\n",
    "df['speaker'] = df['speaker'].apply(lambda x: [s.strip() for s in x])\n",
    "# print speakers and their counts, sort keys by value counts\n",
    "print(df['speaker'].explode().value_counts().sort_values(ascending=False).to_dict())"
   ]
  },
  {
   "cell_type": "markdown",
   "id": "5837dc42",
   "metadata": {},
   "source": [
    "### Problem 3(content):\n",
    "\n",
    "\n",
    "change column `dialog` to `content`, remove texts embraced by '[ ]', and remove unicode chars.\n",
    "\n"
   ]
  },
  {
   "cell_type": "code",
   "execution_count": 26,
   "id": "7430ac5b",
   "metadata": {},
   "outputs": [
    {
     "name": "stdout",
     "output_type": "stream",
     "text": [
      "[\"Once upon a time, in the magical land of Equestria, there were two regal sisters who ruled together and created harmony for all the land. To do this, the eldest used her unicorn powers to raise the sun at dawn; the younger brought out the moon to begin the night. Thus, the two sisters maintained balance for their kingdom and their subjects, all the different types of ponies. But as time went on, the younger sister became resentful. The ponies relished and played in the day her elder sister brought forth, but shunned and slept through her beautiful night. One fateful day, the younger unicorn refused to lower the moon to make way for the dawn. The elder sister tried to reason with her, but the bitterness in the young one's heart had transformed her into a wicked mare of darkness: Nightmare Moon.\", 'She vowed that she would shroud the land in eternal night. Reluctantly, the elder sister harnessed the most powerful magic known to ponydom: the Elements of Harmony. Using the magic of the Elements of Harmony, she defeated her younger sister, and banished her permanently in the moon. The elder sister took on responsibility for both...', '...sun and moon...', \"...and harmony has been maintained in Equestria for generations since. Hmm... Elements of Harmony. I know I've heard of those before... but where?\", 'There you are, Twilight! Moon Dancer is having a little get-together in the west castle courtyard. You wanna come?', \"Oh, sorry, girls... I've got a lot of studying to catch up on.\", \"Does that pony do anything except study? I think she's more interested in books than friends.\", \"I know I've heard of the Elements of Harmony.\", 'Ow!', 'Spike! Spi-ike! Spike?']\n"
     ]
    }
   ],
   "source": [
    "# change column `dialog to content\n",
    "df = df.rename(columns={'dialog': 'content'})\n",
    "# remove texts embraced by [] no extra spaces left\n",
    "df['content'] = df['content'].str.replace(r'\\[.*?\\]', '', regex=True)\n",
    "# remove unicode characters <U+....>\n",
    "df['content'] = df['content'].str.replace(r'<U\\+.*?>', '', regex=True)\n",
    "# remove extra spaces\n",
    "df['content'] = df['content'].str.replace(r'\\s+', ' ', regex=True)\n",
    "# strip spaces\n",
    "df['content'] = df['content'].str.strip()\n",
    "# make sure contents are strings\n",
    "df['content'] = df['content'].apply(lambda x: f'{str(x)}')\n",
    "# print first 10 contents\n",
    "print(df['content'].tolist()[:10])"
   ]
  },
  {
   "cell_type": "markdown",
   "id": "41d02bf0",
   "metadata": {},
   "source": [
    "**Verify your preparation**  \n",
    "   - Programmatically select 100 random lines from your dataset.  \n",
    "   - Check: are there any problems with any of these lines?  \n",
    "   - If so,gotta go back :()"
   ]
  },
  {
   "cell_type": "code",
   "execution_count": 27,
   "id": "a347fd9b",
   "metadata": {},
   "outputs": [
    {
     "name": "stdout",
     "output_type": "stream",
     "text": [
      "                                   episode             speaker  \\\n",
      "263                    friendship is magic     [steven magnet]   \n",
      "11293                spike at your service         [applejack]   \n",
      "12235            princess twilight sparkle  [twilight sparkle]   \n",
      "18003    the lost treasure of griffonstone      [rainbow dash]   \n",
      "4401                    a bird in the hoof  [twilight sparkle]   \n",
      "...                                    ...                 ...   \n",
      "4528             the cutie mark chronicles         [scootaloo]   \n",
      "24198                  dungeons & discords    [spike, discord]   \n",
      "7615   the super speedy cider squeezy 6000        [flim, flam]   \n",
      "22856                applejack's \"day\" off         [applejack]   \n",
      "28490                  fame and misfortune         [applejack]   \n",
      "\n",
      "                                                 content  \n",
      "263                          What a world, what a world.  \n",
      "11293  Thanks for walkin' me home, Spike. That was mi...  \n",
      "12235  That would be nice, Spike, but what if somethi...  \n",
      "18003  Uh, I'll need some rope, a grappling hook, and...  \n",
      "4401   Yes, your Majesty, there's been a terrible acc...  \n",
      "...                                                  ...  \n",
      "4528   Come on, girls! We need action! We need Rainbo...  \n",
      "24198                                    Having fun now!  \n",
      "7615                             We're saying you've got  \n",
      "22856  Thanks, y'all. I guess I just got so used to d...  \n",
      "28490  Reckon we still have to deal with them, don't we?  \n",
      "\n",
      "[100 rows x 3 columns]\n"
     ]
    }
   ],
   "source": [
    "\n",
    "sampled_df = df.sample(n=100, random_state=42)\n",
    "print(sampled_df)"
   ]
  },
  {
   "cell_type": "markdown",
   "id": "c73318b8",
   "metadata": {},
   "source": [
    "### Task 3. annotation\n",
    "add an annotation for who the speaker is addressing.code will create an annotated version of the csv file which contains an additional column “addressee” indicating who is being addressed.\n",
    "\n",
    "approach: the character who’s dialogue immediately follows the speaker is the addressee.\n"
   ]
  },
  {
   "cell_type": "code",
   "execution_count": 28,
   "id": "e6651ec8",
   "metadata": {},
   "outputs": [
    {
     "name": "stdout",
     "output_type": "stream",
     "text": [
      "               episode                       speaker  \\\n",
      "0  friendship is magic                    [narrator]   \n",
      "1  friendship is magic                    [narrator]   \n",
      "2  friendship is magic  [narrator, twilight sparkle]   \n",
      "3  friendship is magic            [twilight sparkle]   \n",
      "4  friendship is magic                [twinkleshine]   \n",
      "5  friendship is magic            [twilight sparkle]   \n",
      "6  friendship is magic                [twinkleshine]   \n",
      "7  friendship is magic            [twilight sparkle]   \n",
      "8  friendship is magic                       [spike]   \n",
      "9  friendship is magic            [twilight sparkle]   \n",
      "\n",
      "                                             content  \\\n",
      "0  Once upon a time, in the magical land of Eques...   \n",
      "1  She vowed that she would shroud the land in et...   \n",
      "2                                 ...sun and moon...   \n",
      "3  ...and harmony has been maintained in Equestri...   \n",
      "4  There you are, Twilight! Moon Dancer is having...   \n",
      "5  Oh, sorry, girls... I've got a lot of studying...   \n",
      "6  Does that pony do anything except study? I thi...   \n",
      "7      I know I've heard of the Elements of Harmony.   \n",
      "8                                                Ow!   \n",
      "9                             Spike! Spi-ike! Spike?   \n",
      "\n",
      "                      addressee  \n",
      "0                    [narrator]  \n",
      "1  [narrator, twilight sparkle]  \n",
      "2            [twilight sparkle]  \n",
      "3                [twinkleshine]  \n",
      "4            [twilight sparkle]  \n",
      "5                [twinkleshine]  \n",
      "6            [twilight sparkle]  \n",
      "7                       [spike]  \n",
      "8            [twilight sparkle]  \n",
      "9            [twilight sparkle]  \n",
      "Saved to /Users/SheridanVLopez/Desktop/uni/my_little_pony/archive/clean_dialog_with_addressee.csv\n",
      "               episode                       speaker  \\\n",
      "0  friendship is magic                    [narrator]   \n",
      "1  friendship is magic                    [narrator]   \n",
      "2  friendship is magic  [narrator, twilight sparkle]   \n",
      "3  friendship is magic            [twilight sparkle]   \n",
      "4  friendship is magic                [twinkleshine]   \n",
      "5  friendship is magic            [twilight sparkle]   \n",
      "6  friendship is magic                [twinkleshine]   \n",
      "7  friendship is magic            [twilight sparkle]   \n",
      "8  friendship is magic                       [spike]   \n",
      "9  friendship is magic            [twilight sparkle]   \n",
      "\n",
      "                                             content  \\\n",
      "0  Once upon a time, in the magical land of Eques...   \n",
      "1  She vowed that she would shroud the land in et...   \n",
      "2                                 ...sun and moon...   \n",
      "3  ...and harmony has been maintained in Equestri...   \n",
      "4  There you are, Twilight! Moon Dancer is having...   \n",
      "5  Oh, sorry, girls... I've got a lot of studying...   \n",
      "6  Does that pony do anything except study? I thi...   \n",
      "7      I know I've heard of the Elements of Harmony.   \n",
      "8                                                Ow!   \n",
      "9                             Spike! Spi-ike! Spike?   \n",
      "\n",
      "                      addressee  \n",
      "0                    [narrator]  \n",
      "1  [narrator, twilight sparkle]  \n",
      "2            [twilight sparkle]  \n",
      "3                [twinkleshine]  \n",
      "4            [twilight sparkle]  \n",
      "5                [twinkleshine]  \n",
      "6            [twilight sparkle]  \n",
      "7                       [spike]  \n",
      "8            [twilight sparkle]  \n",
      "9            [twilight sparkle]  \n"
     ]
    }
   ],
   "source": [
    "\n",
    "# spearker(s) is a list, so the addressee should be a list too\n",
    "# we can use a function to solve this\n",
    "\n",
    "def find_addressee(row, df):\n",
    "    if row.name == len(df) - 1:  # if it's the last row, no addressee\n",
    "        return 'None' \n",
    "    next_row = df.iloc[row.name + 1]\n",
    "    if row['episode'] != next_row['episode']:  # if episode changes, no addressee \n",
    "        return 'None'\n",
    "    return next_row['speaker'] #ly shifting the speaker column up by 1 within the same episode\n",
    "\n",
    "df['addressee'] = df.apply(lambda row: find_addressee(row, df), axis=1)\n",
    "# print the dataframe to check\n",
    "print(df.head(10))\n",
    "# save to csv\n",
    "df.to_csv('/Users/SheridanVLopez/Desktop/uni/my_little_pony/archive/clean_dialog_with_addressee.csv', index=False)\n",
    "print(\"Saved to /Users/SheridanVLopez/Desktop/uni/my_little_pony/archive/clean_dialog_with_addressee.csv\")\n",
    "# print the dataframe to check\n",
    "print(df.head(10))"
   ]
  }
 ],
 "metadata": {
  "kernelspec": {
   "display_name": "base",
   "language": "python",
   "name": "python3"
  },
  "language_info": {
   "codemirror_mode": {
    "name": "ipython",
    "version": 3
   },
   "file_extension": ".py",
   "mimetype": "text/x-python",
   "name": "python",
   "nbconvert_exporter": "python",
   "pygments_lexer": "ipython3",
   "version": "3.13.5"
  }
 },
 "nbformat": 4,
 "nbformat_minor": 5
}
