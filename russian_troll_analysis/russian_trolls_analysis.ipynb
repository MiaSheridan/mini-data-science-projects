{
 "cells": [
  {
   "cell_type": "markdown",
   "id": "21872d6a",
   "metadata": {},
   "source": [
    "### Goal assess frequency with which troll tweets mention \"Trump\" by name\n"
   ]
  },
  {
   "cell_type": "markdown",
   "id": "9084af58",
   "metadata": {},
   "source": [
    "Part 1\n"
   ]
  },
  {
   "cell_type": "code",
   "execution_count": 4,
   "id": "c54d557f",
   "metadata": {},
   "outputs": [],
   "source": [
    "import pandas as pd\n",
    "\n",
    "url = \"https://raw.githubusercontent.com/fivethirtyeight/russian-troll-tweets/refs/heads/master/IRAhandle_tweets_1.csv\"\n",
    "tweets_df=pd.read_csv(url)\n",
    "\n",
    "#only want the 10000 first tweets\n",
    "tweets = tweets_df.head(10000).copy()\n",
    "\n",
    "#go on column language and filter the ones in english\n",
    "tweets_english = tweets[tweets['language'] =='English']\n",
    "\n",
    "#filter out questions-we dont want them\n",
    "non_question_tweets = tweets_english[~tweets_english['content'].str.contains('\\?', na=False)].copy()\n",
    "\n",
    "#assigning new variable\n",
    "new_df = non_question_tweets\n",
    "\n",
    "#TSV file\n",
    "new_df.to_csv('filtered_tweets.tsv', sep = '\\t', index=False) #false so now row numbers\n",
    "\n",
    "\n",
    "\n",
    "\n"
   ]
  },
  {
   "cell_type": "markdown",
   "id": "80f7c9c2",
   "metadata": {},
   "source": [
    "Part 2\n"
   ]
  },
  {
   "cell_type": "code",
   "execution_count": null,
   "id": "08c5d467",
   "metadata": {},
   "outputs": [],
   "source": [
    "\n",
    "import re\n",
    "\n",
    "non_question_tweets['trump_mention'] = non_question_tweets['content'].str.contains(r'\\bTrump\\b', case = True, na=False, regex=True)\n",
    "\n",
    "non_question_tweets['trump_mention'] = non_question_tweets['trump_mention'].map({True: 'T', False: 'F'})\n",
    "\n",
    "#creating dataset.tsv with required columns in order\n",
    "dataset_df = non_question_tweets[['tweet_id', 'publish_date', 'content', 'trump_mention']]\n",
    "dataset_df.to_csv('dataset.tsv', sep='\\t', index=False, encoding='utf-8')\n",
    "\n",
    "\n",
    "\n"
   ]
  },
  {
   "cell_type": "code",
   "execution_count": 6,
   "id": "7c7fca59",
   "metadata": {},
   "outputs": [
    {
     "name": "stdout",
     "output_type": "stream",
     "text": [
      "Percentage of Trump mentions: 2.249%\n"
     ]
    }
   ],
   "source": [
    "# clculate the percentage\n",
    "total_tweets = len(dataset_df)\n",
    "trump_mentions = (dataset_df['trump_mention'] == 'T').sum()\n",
    "percentage = (trump_mentions / total_tweets) * 100\n",
    "rounded_percentage = round(percentage, 3)\n",
    "\n",
    "#create results.tsv\n",
    "results_data = {\n",
    "    'result': ['frac-trump-mentions'],\n",
    "    'value': [rounded_percentage]\n",
    "}\n",
    "results_df = pd.DataFrame(results_data)\n",
    "results_df.to_csv('results.tsv', sep='\\t', index=False)\n",
    "\n",
    "print(f\"Percentage of Trump mentions: {rounded_percentage}%\")"
   ]
  },
  {
   "cell_type": "markdown",
   "id": "803951ad",
   "metadata": {},
   "source": []
  },
  {
   "cell_type": "code",
   "execution_count": null,
   "id": "9a0c89d1",
   "metadata": {},
   "outputs": [],
   "source": []
  }
 ],
 "metadata": {
  "kernelspec": {
   "display_name": "base",
   "language": "python",
   "name": "python3"
  },
  "language_info": {
   "codemirror_mode": {
    "name": "ipython",
    "version": 3
   },
   "file_extension": ".py",
   "mimetype": "text/x-python",
   "name": "python",
   "nbconvert_exporter": "python",
   "pygments_lexer": "ipython3",
   "version": "3.13.5"
  }
 },
 "nbformat": 4,
 "nbformat_minor": 5
}
